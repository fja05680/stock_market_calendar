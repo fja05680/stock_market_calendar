{
 "cells": [
  {
   "cell_type": "markdown",
   "metadata": {},
   "source": [
    "# Stock Market Calendar  \n",
    "\n",
    "### Past and Future dates when the stock market is open and closed\n",
    "\n",
    "Produces 3 csv files, namely\n",
    "1. All dates from 1927-12-30 to 2023-12-31 (all_dates.txt)\n",
    "2. Dates when stock market is open (all_open_dates.txt)\n",
    "3. Dates when stock market is closed (all_close_dates.txt)"
   ]
  },
  {
   "cell_type": "code",
   "execution_count": 1,
   "metadata": {},
   "outputs": [],
   "source": [
    "import datetime\n",
    "import os\n",
    "\n",
    "import pandas as pd\n",
    "import pandas_datareader.data as pdr"
   ]
  },
  {
   "cell_type": "code",
   "execution_count": 2,
   "metadata": {},
   "outputs": [],
   "source": [
    "start_date = datetime.date(1927 ,12, 30)\n",
    "end_date   = datetime.date(2023, 12, 31)"
   ]
  },
  {
   "cell_type": "markdown",
   "metadata": {},
   "source": [
    "### All dates (all_dates.txt)"
   ]
  },
  {
   "cell_type": "code",
   "execution_count": 3,
   "metadata": {},
   "outputs": [
    {
     "data": {
      "text/plain": [
       "['1927-12-30',\n",
       " '1927-12-31',\n",
       " '1928-01-01',\n",
       " '1928-01-02',\n",
       " '1928-01-03',\n",
       " '1928-01-04',\n",
       " '1928-01-05',\n",
       " '1928-01-06',\n",
       " '1928-01-07',\n",
       " '1928-01-08']"
      ]
     },
     "execution_count": 3,
     "metadata": {},
     "output_type": "execute_result"
    }
   ],
   "source": [
    "filename = 'all_dates.txt'\n",
    "all_dates = []\n",
    "\n",
    "if not os.path.isfile(filename):\n",
    "    all_dates = pd.date_range(start_date, end_date)\n",
    "    all_dates = all_dates.strftime('%Y-%m-%d').to_list()\n",
    "    with open (filename, 'w') as f:\n",
    "        for date in all_dates:\n",
    "            f.write(f'{date}\\n')\n",
    "with open (filename, 'r') as f:\n",
    "    all_dates = [line.rstrip() for line in f]\n",
    "all_dates[:10]"
   ]
  },
  {
   "cell_type": "markdown",
   "metadata": {},
   "source": [
    "### Past Open Dates"
   ]
  },
  {
   "cell_type": "markdown",
   "metadata": {},
   "source": [
    "First we need to get the trading dates from the past.  We'll get the entire timeseries for S&P 500 and assume that its dates are accuracte as to when trading was allowed."
   ]
  },
  {
   "cell_type": "code",
   "execution_count": 4,
   "metadata": {},
   "outputs": [
    {
     "data": {
      "text/html": [
       "<div>\n",
       "<style scoped>\n",
       "    .dataframe tbody tr th:only-of-type {\n",
       "        vertical-align: middle;\n",
       "    }\n",
       "\n",
       "    .dataframe tbody tr th {\n",
       "        vertical-align: top;\n",
       "    }\n",
       "\n",
       "    .dataframe thead th {\n",
       "        text-align: right;\n",
       "    }\n",
       "</style>\n",
       "<table border=\"1\" class=\"dataframe\">\n",
       "  <thead>\n",
       "    <tr style=\"text-align: right;\">\n",
       "      <th></th>\n",
       "      <th>High</th>\n",
       "      <th>Low</th>\n",
       "      <th>Open</th>\n",
       "      <th>Close</th>\n",
       "      <th>Volume</th>\n",
       "      <th>Adj Close</th>\n",
       "    </tr>\n",
       "    <tr>\n",
       "      <th>Date</th>\n",
       "      <th></th>\n",
       "      <th></th>\n",
       "      <th></th>\n",
       "      <th></th>\n",
       "      <th></th>\n",
       "      <th></th>\n",
       "    </tr>\n",
       "  </thead>\n",
       "  <tbody>\n",
       "    <tr>\n",
       "      <th>1927-12-30</th>\n",
       "      <td>17.660000</td>\n",
       "      <td>17.660000</td>\n",
       "      <td>17.660000</td>\n",
       "      <td>17.660000</td>\n",
       "      <td>0</td>\n",
       "      <td>17.660000</td>\n",
       "    </tr>\n",
       "    <tr>\n",
       "      <th>1928-01-03</th>\n",
       "      <td>17.760000</td>\n",
       "      <td>17.760000</td>\n",
       "      <td>17.760000</td>\n",
       "      <td>17.760000</td>\n",
       "      <td>0</td>\n",
       "      <td>17.760000</td>\n",
       "    </tr>\n",
       "    <tr>\n",
       "      <th>1928-01-04</th>\n",
       "      <td>17.719999</td>\n",
       "      <td>17.719999</td>\n",
       "      <td>17.719999</td>\n",
       "      <td>17.719999</td>\n",
       "      <td>0</td>\n",
       "      <td>17.719999</td>\n",
       "    </tr>\n",
       "    <tr>\n",
       "      <th>1928-01-05</th>\n",
       "      <td>17.549999</td>\n",
       "      <td>17.549999</td>\n",
       "      <td>17.549999</td>\n",
       "      <td>17.549999</td>\n",
       "      <td>0</td>\n",
       "      <td>17.549999</td>\n",
       "    </tr>\n",
       "    <tr>\n",
       "      <th>1928-01-06</th>\n",
       "      <td>17.660000</td>\n",
       "      <td>17.660000</td>\n",
       "      <td>17.660000</td>\n",
       "      <td>17.660000</td>\n",
       "      <td>0</td>\n",
       "      <td>17.660000</td>\n",
       "    </tr>\n",
       "    <tr>\n",
       "      <th>...</th>\n",
       "      <td>...</td>\n",
       "      <td>...</td>\n",
       "      <td>...</td>\n",
       "      <td>...</td>\n",
       "      <td>...</td>\n",
       "      <td>...</td>\n",
       "    </tr>\n",
       "    <tr>\n",
       "      <th>2021-06-21</th>\n",
       "      <td>4226.240234</td>\n",
       "      <td>4173.399902</td>\n",
       "      <td>4173.399902</td>\n",
       "      <td>4224.790039</td>\n",
       "      <td>3391740000</td>\n",
       "      <td>4224.790039</td>\n",
       "    </tr>\n",
       "    <tr>\n",
       "      <th>2021-06-22</th>\n",
       "      <td>4255.839844</td>\n",
       "      <td>4217.270020</td>\n",
       "      <td>4224.609863</td>\n",
       "      <td>4246.439941</td>\n",
       "      <td>3208760000</td>\n",
       "      <td>4246.439941</td>\n",
       "    </tr>\n",
       "    <tr>\n",
       "      <th>2021-06-23</th>\n",
       "      <td>4256.600098</td>\n",
       "      <td>4241.430176</td>\n",
       "      <td>4249.270020</td>\n",
       "      <td>4241.839844</td>\n",
       "      <td>3172440000</td>\n",
       "      <td>4241.839844</td>\n",
       "    </tr>\n",
       "    <tr>\n",
       "      <th>2021-06-24</th>\n",
       "      <td>4271.279785</td>\n",
       "      <td>4256.970215</td>\n",
       "      <td>4256.970215</td>\n",
       "      <td>4266.490234</td>\n",
       "      <td>3141680000</td>\n",
       "      <td>4266.490234</td>\n",
       "    </tr>\n",
       "    <tr>\n",
       "      <th>2021-06-25</th>\n",
       "      <td>4284.939941</td>\n",
       "      <td>4271.160156</td>\n",
       "      <td>4274.450195</td>\n",
       "      <td>4281.290039</td>\n",
       "      <td>1235016000</td>\n",
       "      <td>4281.290039</td>\n",
       "    </tr>\n",
       "  </tbody>\n",
       "</table>\n",
       "<p>23483 rows × 6 columns</p>\n",
       "</div>"
      ],
      "text/plain": [
       "                   High          Low         Open        Close      Volume  \\\n",
       "Date                                                                         \n",
       "1927-12-30    17.660000    17.660000    17.660000    17.660000           0   \n",
       "1928-01-03    17.760000    17.760000    17.760000    17.760000           0   \n",
       "1928-01-04    17.719999    17.719999    17.719999    17.719999           0   \n",
       "1928-01-05    17.549999    17.549999    17.549999    17.549999           0   \n",
       "1928-01-06    17.660000    17.660000    17.660000    17.660000           0   \n",
       "...                 ...          ...          ...          ...         ...   \n",
       "2021-06-21  4226.240234  4173.399902  4173.399902  4224.790039  3391740000   \n",
       "2021-06-22  4255.839844  4217.270020  4224.609863  4246.439941  3208760000   \n",
       "2021-06-23  4256.600098  4241.430176  4249.270020  4241.839844  3172440000   \n",
       "2021-06-24  4271.279785  4256.970215  4256.970215  4266.490234  3141680000   \n",
       "2021-06-25  4284.939941  4271.160156  4274.450195  4281.290039  1235016000   \n",
       "\n",
       "              Adj Close  \n",
       "Date                     \n",
       "1927-12-30    17.660000  \n",
       "1928-01-03    17.760000  \n",
       "1928-01-04    17.719999  \n",
       "1928-01-05    17.549999  \n",
       "1928-01-06    17.660000  \n",
       "...                 ...  \n",
       "2021-06-21  4224.790039  \n",
       "2021-06-22  4246.439941  \n",
       "2021-06-23  4241.839844  \n",
       "2021-06-24  4266.490234  \n",
       "2021-06-25  4281.290039  \n",
       "\n",
       "[23483 rows x 6 columns]"
      ]
     },
     "execution_count": 4,
     "metadata": {},
     "output_type": "execute_result"
    }
   ],
   "source": [
    "symbol = '^GSPC'\n",
    "start = datetime.datetime(1900, 1, 1)\n",
    "end = datetime.datetime.now()\n",
    "timeseries_cache = symbol + '.csv'\n",
    "\n",
    "if os.path.isfile(timeseries_cache):\n",
    "    pass\n",
    "else:\n",
    "    ts = pdr.DataReader(symbol, 'yahoo', start, end)\n",
    "    ts.to_csv(timeseries_cache, encoding='utf-8')\n",
    "\n",
    "ts = pd.read_csv(timeseries_cache, index_col='Date', parse_dates=True)\n",
    "ts"
   ]
  },
  {
   "cell_type": "markdown",
   "metadata": {},
   "source": [
    "Get the dates ctock market was open in the past."
   ]
  },
  {
   "cell_type": "code",
   "execution_count": 5,
   "metadata": {},
   "outputs": [
    {
     "data": {
      "text/plain": [
       "['1927-12-30',\n",
       " '1928-01-03',\n",
       " '1928-01-04',\n",
       " '1928-01-05',\n",
       " '1928-01-06',\n",
       " '1928-01-09',\n",
       " '1928-01-10',\n",
       " '1928-01-11',\n",
       " '1928-01-12',\n",
       " '1928-01-13']"
      ]
     },
     "execution_count": 5,
     "metadata": {},
     "output_type": "execute_result"
    }
   ],
   "source": [
    "# Drop all the columns\n",
    "ts = ts.drop(ts.columns, axis=1)\n",
    "past_open_dates = ts.index.strftime('%Y-%m-%d').to_list()\n",
    "past_open_dates[:10]"
   ]
  },
  {
   "cell_type": "markdown",
   "metadata": {},
   "source": [
    "### Future Open Dates"
   ]
  },
  {
   "cell_type": "markdown",
   "metadata": {},
   "source": [
    "We will use a list of the US holiday schedule for 2021-2023.  We take those days away from complete business calander (Mon through Fri) for 2021-2023."
   ]
  },
  {
   "cell_type": "markdown",
   "metadata": {},
   "source": [
    "List of dates market is closed in 2021-2023 for US holidays:¶\n",
    "\n",
    "https://www.nyse.com/markets/hours-calendars\n"
   ]
  },
  {
   "cell_type": "code",
   "execution_count": 6,
   "metadata": {},
   "outputs": [],
   "source": [
    "future_holidays = [\n",
    "    # 2021\n",
    "    '2021-01-01', '2021-01-18', '2021-02-15', '2021-04-02', '2021-05-31',\n",
    "    '2021-07-05', '2021-09-06', '2021-11-25', '2021-12-24',\n",
    "    # 2022\n",
    "    '2022-01-17', '2022-02-21', '2022-04-15', '2022-05-30', '2022-07-04',\n",
    "    '2022-09-05', '2022-11-24', '2022-12-26',\n",
    "    # 2023       \n",
    "    '2023-01-02', '2023-01-16', '2023-01-20', '2023-04-07', '2023-05-29',\n",
    "    '2023-07-04', '2023-09-04', '2023-11-23', '2023-12-05'\n",
    "]"
   ]
  },
  {
   "cell_type": "markdown",
   "metadata": {},
   "source": [
    "Get list of future business dates."
   ]
  },
  {
   "cell_type": "code",
   "execution_count": 7,
   "metadata": {
    "scrolled": false
   },
   "outputs": [
    {
     "data": {
      "text/plain": [
       "['2021-01-01',\n",
       " '2021-01-04',\n",
       " '2021-01-05',\n",
       " '2021-01-06',\n",
       " '2021-01-07',\n",
       " '2021-01-08',\n",
       " '2021-01-11',\n",
       " '2021-01-12',\n",
       " '2021-01-13',\n",
       " '2021-01-14']"
      ]
     },
     "execution_count": 7,
     "metadata": {},
     "output_type": "execute_result"
    }
   ],
   "source": [
    "start = datetime.date(2021 ,1, 1)\n",
    "end   = datetime.date(2023, 12, 31)\n",
    "\n",
    "future_business_dates = pd.date_range(start, end, freq='B')\n",
    "future_business_dates = future_business_dates.strftime('%Y-%m-%d').to_list()\n",
    "future_business_dates[:10]"
   ]
  },
  {
   "cell_type": "markdown",
   "metadata": {},
   "source": [
    "Remove the holidays from the business dates and that will be the future market open dates."
   ]
  },
  {
   "cell_type": "code",
   "execution_count": 8,
   "metadata": {},
   "outputs": [
    {
     "data": {
      "text/plain": [
       "['2021-01-04',\n",
       " '2021-01-05',\n",
       " '2021-01-06',\n",
       " '2021-01-07',\n",
       " '2021-01-08',\n",
       " '2021-01-11',\n",
       " '2021-01-12',\n",
       " '2021-01-13',\n",
       " '2021-01-14',\n",
       " '2021-01-15']"
      ]
     },
     "execution_count": 8,
     "metadata": {},
     "output_type": "execute_result"
    }
   ],
   "source": [
    "future_open_dates = list(set(future_business_dates) - set(future_holidays))\n",
    "future_open_dates = sorted(future_open_dates)\n",
    "future_open_dates[:10]"
   ]
  },
  {
   "cell_type": "markdown",
   "metadata": {},
   "source": [
    "### All Open Dates"
   ]
  },
  {
   "cell_type": "markdown",
   "metadata": {},
   "source": [
    "Finally, join the past and future market open lists."
   ]
  },
  {
   "cell_type": "code",
   "execution_count": 9,
   "metadata": {},
   "outputs": [
    {
     "data": {
      "text/plain": [
       "['1927-12-30',\n",
       " '1928-01-03',\n",
       " '1928-01-04',\n",
       " '1928-01-05',\n",
       " '1928-01-06',\n",
       " '1928-01-09',\n",
       " '1928-01-10',\n",
       " '1928-01-11',\n",
       " '1928-01-12',\n",
       " '1928-01-13']"
      ]
     },
     "execution_count": 9,
     "metadata": {},
     "output_type": "execute_result"
    }
   ],
   "source": [
    "all_open_dates = set(past_open_dates).union(set(future_open_dates))\n",
    "all_open_dates = sorted(all_open_dates)\n",
    "all_open_dates[:10]"
   ]
  },
  {
   "cell_type": "code",
   "execution_count": 10,
   "metadata": {},
   "outputs": [],
   "source": [
    "filename = 'all_open_dates.txt'\n",
    "with open (filename, 'w') as f:\n",
    "    for date in all_open_dates:\n",
    "        f.write(f'{date}\\n')"
   ]
  },
  {
   "cell_type": "markdown",
   "metadata": {},
   "source": [
    "### All Close Dates"
   ]
  },
  {
   "cell_type": "code",
   "execution_count": 11,
   "metadata": {},
   "outputs": [
    {
     "data": {
      "text/plain": [
       "['1927-12-31',\n",
       " '1928-01-01',\n",
       " '1928-01-02',\n",
       " '1928-01-07',\n",
       " '1928-01-08',\n",
       " '1928-01-14',\n",
       " '1928-01-15',\n",
       " '1928-01-21',\n",
       " '1928-01-22',\n",
       " '1928-01-28']"
      ]
     },
     "execution_count": 11,
     "metadata": {},
     "output_type": "execute_result"
    }
   ],
   "source": [
    "all_close_dates = list(set(all_dates) - set(all_open_dates))\n",
    "all_close_dates = sorted(all_close_dates)\n",
    "all_close_dates[:10]"
   ]
  },
  {
   "cell_type": "code",
   "execution_count": 12,
   "metadata": {},
   "outputs": [],
   "source": [
    "filename = 'all_close_dates.txt'\n",
    "with open (filename, 'w') as f:\n",
    "    for date in all_close_dates:\n",
    "        f.write(f'{date}\\n')"
   ]
  },
  {
   "cell_type": "code",
   "execution_count": null,
   "metadata": {},
   "outputs": [],
   "source": []
  }
 ],
 "metadata": {
  "kernelspec": {
   "display_name": "Python 3",
   "language": "python",
   "name": "python3"
  },
  "language_info": {
   "codemirror_mode": {
    "name": "ipython",
    "version": 3
   },
   "file_extension": ".py",
   "mimetype": "text/x-python",
   "name": "python",
   "nbconvert_exporter": "python",
   "pygments_lexer": "ipython3",
   "version": "3.8.5"
  }
 },
 "nbformat": 4,
 "nbformat_minor": 4
}
