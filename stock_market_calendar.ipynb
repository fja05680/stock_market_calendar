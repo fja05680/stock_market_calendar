{
 "cells": [
  {
   "cell_type": "markdown",
   "metadata": {},
   "source": [
    "# Stock Market Calendar  \n",
    "\n",
    "### Past and Future dates when the stock market is open and closed\n",
    "\n",
    "Produces 3 csv files, namely\n",
    "1. All dates from 1927-12-30 to 2023-12-31 (all_dates.txt)\n",
    "2. Dates when stock market is open (all_open_dates.txt)\n",
    "3. Dates when stock market is closed (all_close_dates.txt)"
   ]
  },
  {
   "cell_type": "code",
   "execution_count": 1,
   "metadata": {},
   "outputs": [],
   "source": [
    "import datetime\n",
    "import os\n",
    "\n",
    "import pandas as pd\n",
    "from pandas_datareader._utils import RemoteDataError\n",
    "import pandas_datareader.data as pdr\n",
    "import yfinance as yf\n",
    "\n",
    "# Override pandas_datareader with yfinance\n",
    "yf.pdr_override()"
   ]
  },
  {
   "cell_type": "code",
   "execution_count": 2,
   "metadata": {},
   "outputs": [],
   "source": [
    "start_date = datetime.date(1927 ,12, 30)\n",
    "end_date   = datetime.date(2026, 12, 31)"
   ]
  },
  {
   "cell_type": "markdown",
   "metadata": {},
   "source": [
    "### All dates (all_dates.txt)"
   ]
  },
  {
   "cell_type": "code",
   "execution_count": 3,
   "metadata": {},
   "outputs": [
    {
     "data": {
      "text/plain": [
       "['1927-12-30',\n",
       " '1927-12-31',\n",
       " '1928-01-01',\n",
       " '1928-01-02',\n",
       " '1928-01-03',\n",
       " '1928-01-04',\n",
       " '1928-01-05',\n",
       " '1928-01-06',\n",
       " '1928-01-07',\n",
       " '1928-01-08']"
      ]
     },
     "execution_count": 3,
     "metadata": {},
     "output_type": "execute_result"
    }
   ],
   "source": [
    "filename = 'all_dates.txt'\n",
    "all_dates = []\n",
    "\n",
    "if not os.path.isfile(filename):\n",
    "    all_dates = pd.date_range(start_date, end_date)\n",
    "    all_dates = all_dates.strftime('%Y-%m-%d').to_list()\n",
    "    with open (filename, 'w') as f:\n",
    "        for date in all_dates:\n",
    "            f.write(f'{date}\\n')\n",
    "with open (filename, 'r') as f:\n",
    "    all_dates = [line.rstrip() for line in f]\n",
    "all_dates[:10]"
   ]
  },
  {
   "cell_type": "markdown",
   "metadata": {},
   "source": [
    "### Past Open Dates"
   ]
  },
  {
   "cell_type": "markdown",
   "metadata": {},
   "source": [
    "First we need to get the trading dates from the past.  We'll get the entire timeseries for S&P 500 and assume that its dates are accuracte as to when trading was allowed."
   ]
  },
  {
   "cell_type": "code",
   "execution_count": 7,
   "metadata": {},
   "outputs": [
    {
     "data": {
      "text/html": [
       "<div>\n",
       "<style scoped>\n",
       "    .dataframe tbody tr th:only-of-type {\n",
       "        vertical-align: middle;\n",
       "    }\n",
       "\n",
       "    .dataframe tbody tr th {\n",
       "        vertical-align: top;\n",
       "    }\n",
       "\n",
       "    .dataframe thead th {\n",
       "        text-align: right;\n",
       "    }\n",
       "</style>\n",
       "<table border=\"1\" class=\"dataframe\">\n",
       "  <thead>\n",
       "    <tr style=\"text-align: right;\">\n",
       "      <th></th>\n",
       "      <th>Open</th>\n",
       "      <th>High</th>\n",
       "      <th>Low</th>\n",
       "      <th>Close</th>\n",
       "      <th>Adj Close</th>\n",
       "      <th>Volume</th>\n",
       "    </tr>\n",
       "    <tr>\n",
       "      <th>Date</th>\n",
       "      <th></th>\n",
       "      <th></th>\n",
       "      <th></th>\n",
       "      <th></th>\n",
       "      <th></th>\n",
       "      <th></th>\n",
       "    </tr>\n",
       "  </thead>\n",
       "  <tbody>\n",
       "    <tr>\n",
       "      <th>1927-12-30</th>\n",
       "      <td>17.660000</td>\n",
       "      <td>17.660000</td>\n",
       "      <td>17.660000</td>\n",
       "      <td>17.660000</td>\n",
       "      <td>17.660000</td>\n",
       "      <td>0</td>\n",
       "    </tr>\n",
       "    <tr>\n",
       "      <th>1928-01-03</th>\n",
       "      <td>17.760000</td>\n",
       "      <td>17.760000</td>\n",
       "      <td>17.760000</td>\n",
       "      <td>17.760000</td>\n",
       "      <td>17.760000</td>\n",
       "      <td>0</td>\n",
       "    </tr>\n",
       "    <tr>\n",
       "      <th>1928-01-04</th>\n",
       "      <td>17.719999</td>\n",
       "      <td>17.719999</td>\n",
       "      <td>17.719999</td>\n",
       "      <td>17.719999</td>\n",
       "      <td>17.719999</td>\n",
       "      <td>0</td>\n",
       "    </tr>\n",
       "    <tr>\n",
       "      <th>1928-01-05</th>\n",
       "      <td>17.549999</td>\n",
       "      <td>17.549999</td>\n",
       "      <td>17.549999</td>\n",
       "      <td>17.549999</td>\n",
       "      <td>17.549999</td>\n",
       "      <td>0</td>\n",
       "    </tr>\n",
       "    <tr>\n",
       "      <th>1928-01-06</th>\n",
       "      <td>17.660000</td>\n",
       "      <td>17.660000</td>\n",
       "      <td>17.660000</td>\n",
       "      <td>17.660000</td>\n",
       "      <td>17.660000</td>\n",
       "      <td>0</td>\n",
       "    </tr>\n",
       "    <tr>\n",
       "      <th>...</th>\n",
       "      <td>...</td>\n",
       "      <td>...</td>\n",
       "      <td>...</td>\n",
       "      <td>...</td>\n",
       "      <td>...</td>\n",
       "      <td>...</td>\n",
       "    </tr>\n",
       "    <tr>\n",
       "      <th>2023-12-21</th>\n",
       "      <td>4724.290039</td>\n",
       "      <td>4748.709961</td>\n",
       "      <td>4708.350098</td>\n",
       "      <td>4746.750000</td>\n",
       "      <td>4746.750000</td>\n",
       "      <td>3431180000</td>\n",
       "    </tr>\n",
       "    <tr>\n",
       "      <th>2023-12-22</th>\n",
       "      <td>4753.919922</td>\n",
       "      <td>4772.939941</td>\n",
       "      <td>4736.770020</td>\n",
       "      <td>4754.629883</td>\n",
       "      <td>4754.629883</td>\n",
       "      <td>3046770000</td>\n",
       "    </tr>\n",
       "    <tr>\n",
       "      <th>2023-12-26</th>\n",
       "      <td>4758.859863</td>\n",
       "      <td>4784.720215</td>\n",
       "      <td>4758.450195</td>\n",
       "      <td>4774.750000</td>\n",
       "      <td>4774.750000</td>\n",
       "      <td>2513910000</td>\n",
       "    </tr>\n",
       "    <tr>\n",
       "      <th>2023-12-27</th>\n",
       "      <td>4773.450195</td>\n",
       "      <td>4785.390137</td>\n",
       "      <td>4768.899902</td>\n",
       "      <td>4781.580078</td>\n",
       "      <td>4781.580078</td>\n",
       "      <td>2748450000</td>\n",
       "    </tr>\n",
       "    <tr>\n",
       "      <th>2023-12-28</th>\n",
       "      <td>4786.439941</td>\n",
       "      <td>4793.299805</td>\n",
       "      <td>4780.979980</td>\n",
       "      <td>4783.350098</td>\n",
       "      <td>4783.350098</td>\n",
       "      <td>2698860000</td>\n",
       "    </tr>\n",
       "  </tbody>\n",
       "</table>\n",
       "<p>24114 rows × 6 columns</p>\n",
       "</div>"
      ],
      "text/plain": [
       "                   Open         High          Low        Close    Adj Close  \\\n",
       "Date                                                                          \n",
       "1927-12-30    17.660000    17.660000    17.660000    17.660000    17.660000   \n",
       "1928-01-03    17.760000    17.760000    17.760000    17.760000    17.760000   \n",
       "1928-01-04    17.719999    17.719999    17.719999    17.719999    17.719999   \n",
       "1928-01-05    17.549999    17.549999    17.549999    17.549999    17.549999   \n",
       "1928-01-06    17.660000    17.660000    17.660000    17.660000    17.660000   \n",
       "...                 ...          ...          ...          ...          ...   \n",
       "2023-12-21  4724.290039  4748.709961  4708.350098  4746.750000  4746.750000   \n",
       "2023-12-22  4753.919922  4772.939941  4736.770020  4754.629883  4754.629883   \n",
       "2023-12-26  4758.859863  4784.720215  4758.450195  4774.750000  4774.750000   \n",
       "2023-12-27  4773.450195  4785.390137  4768.899902  4781.580078  4781.580078   \n",
       "2023-12-28  4786.439941  4793.299805  4780.979980  4783.350098  4783.350098   \n",
       "\n",
       "                Volume  \n",
       "Date                    \n",
       "1927-12-30           0  \n",
       "1928-01-03           0  \n",
       "1928-01-04           0  \n",
       "1928-01-05           0  \n",
       "1928-01-06           0  \n",
       "...                ...  \n",
       "2023-12-21  3431180000  \n",
       "2023-12-22  3046770000  \n",
       "2023-12-26  2513910000  \n",
       "2023-12-27  2748450000  \n",
       "2023-12-28  2698860000  \n",
       "\n",
       "[24114 rows x 6 columns]"
      ]
     },
     "execution_count": 7,
     "metadata": {},
     "output_type": "execute_result"
    }
   ],
   "source": [
    "symbol = '^GSPC'\n",
    "start = datetime.datetime(1900, 1, 1)\n",
    "end = datetime.datetime.now()\n",
    "timeseries_cache = symbol + '.csv'\n",
    "\n",
    "if os.path.isfile(timeseries_cache):\n",
    "    pass\n",
    "else:\n",
    "    try:\n",
    "        ts = pdr.get_data_yahoo(symbol, start=datetime.datetime(1900, 1, 1), progress=False)\n",
    "    except RemoteDataError as e:\n",
    "        print(f'\\n{e}')\n",
    "    except Exception as e:\n",
    "        print(f'\\n{e}')\n",
    "    else:\n",
    "        ts.to_csv(timeseries_cache, encoding='utf-8')\n",
    "\n",
    "ts = pd.read_csv(timeseries_cache, index_col='Date', parse_dates=True)\n",
    "ts"
   ]
  },
  {
   "cell_type": "markdown",
   "metadata": {},
   "source": [
    "Get the dates ctock market was open in the past."
   ]
  },
  {
   "cell_type": "code",
   "execution_count": 8,
   "metadata": {},
   "outputs": [
    {
     "data": {
      "text/plain": [
       "['1927-12-30',\n",
       " '1928-01-03',\n",
       " '1928-01-04',\n",
       " '1928-01-05',\n",
       " '1928-01-06',\n",
       " '1928-01-09',\n",
       " '1928-01-10',\n",
       " '1928-01-11',\n",
       " '1928-01-12',\n",
       " '1928-01-13']"
      ]
     },
     "execution_count": 8,
     "metadata": {},
     "output_type": "execute_result"
    }
   ],
   "source": [
    "# Drop all the columns\n",
    "ts = ts.drop(ts.columns, axis=1)\n",
    "past_open_dates = ts.index.strftime('%Y-%m-%d').to_list()\n",
    "past_open_dates[:10]"
   ]
  },
  {
   "cell_type": "markdown",
   "metadata": {},
   "source": [
    "### Future Open Dates"
   ]
  },
  {
   "cell_type": "markdown",
   "metadata": {},
   "source": [
    "We will use a list of the US holiday schedule for 2021-2023.  We take those days away from complete business calander (Mon through Fri) for 2021-2023."
   ]
  },
  {
   "cell_type": "markdown",
   "metadata": {},
   "source": [
    "List of dates market is closed in 2021-2023 for US holidays:¶\n",
    "\n",
    "https://www.nyse.com/markets/hours-calendars\n"
   ]
  },
  {
   "cell_type": "code",
   "execution_count": 9,
   "metadata": {},
   "outputs": [],
   "source": [
    "future_holidays = [\n",
    "    # 2024\n",
    "    '2024-01-01', '2024-01-15', '2024-02-19', '2024-03-29', '2024-05-27',\n",
    "    '2024-06-19', '2024-07-04', '2024-09-02', '2024-11-28', '2024-12-25',\n",
    "    # 2025\n",
    "    '2025-01-01', '2025-01-20', '2025-02-17', '2025-04-18', '2025-05-26',\n",
    "    '2024-06-19', '2025-07-04', '2025-09-01', '2025-11-27', '2025-12-25',\n",
    "    # 2025\n",
    "    '2025-01-01', '2025-01-19', '2025-02-16', '2025-04-03', '2025-05-25',\n",
    "    '2024-06-19', '2025-07-03', '2025-09-07', '2025-11-26', '2025-12-25'\n",
    "]"
   ]
  },
  {
   "cell_type": "markdown",
   "metadata": {},
   "source": [
    "Get list of future business dates."
   ]
  },
  {
   "cell_type": "code",
   "execution_count": 10,
   "metadata": {},
   "outputs": [
    {
     "data": {
      "text/plain": [
       "['2024-01-01',\n",
       " '2024-01-02',\n",
       " '2024-01-03',\n",
       " '2024-01-04',\n",
       " '2024-01-05',\n",
       " '2024-01-08',\n",
       " '2024-01-09',\n",
       " '2024-01-10',\n",
       " '2024-01-11',\n",
       " '2024-01-12']"
      ]
     },
     "execution_count": 10,
     "metadata": {},
     "output_type": "execute_result"
    }
   ],
   "source": [
    "start = datetime.date(2024 ,1, 1)\n",
    "end   = datetime.date(2026, 12, 31)\n",
    "\n",
    "future_business_dates = pd.date_range(start, end, freq='B')\n",
    "future_business_dates = future_business_dates.strftime('%Y-%m-%d').to_list()\n",
    "future_business_dates[:10]"
   ]
  },
  {
   "cell_type": "markdown",
   "metadata": {},
   "source": [
    "Remove the holidays from the business dates and that will be the future market open dates."
   ]
  },
  {
   "cell_type": "code",
   "execution_count": 11,
   "metadata": {},
   "outputs": [
    {
     "data": {
      "text/plain": [
       "['2024-01-02',\n",
       " '2024-01-03',\n",
       " '2024-01-04',\n",
       " '2024-01-05',\n",
       " '2024-01-08',\n",
       " '2024-01-09',\n",
       " '2024-01-10',\n",
       " '2024-01-11',\n",
       " '2024-01-12',\n",
       " '2024-01-16']"
      ]
     },
     "execution_count": 11,
     "metadata": {},
     "output_type": "execute_result"
    }
   ],
   "source": [
    "future_open_dates = list(set(future_business_dates) - set(future_holidays))\n",
    "future_open_dates = sorted(future_open_dates)\n",
    "future_open_dates[:10]"
   ]
  },
  {
   "cell_type": "markdown",
   "metadata": {},
   "source": [
    "### All Open Dates"
   ]
  },
  {
   "cell_type": "markdown",
   "metadata": {},
   "source": [
    "Finally, join the past and future market open lists."
   ]
  },
  {
   "cell_type": "code",
   "execution_count": 12,
   "metadata": {},
   "outputs": [
    {
     "data": {
      "text/plain": [
       "['1927-12-30',\n",
       " '1928-01-03',\n",
       " '1928-01-04',\n",
       " '1928-01-05',\n",
       " '1928-01-06',\n",
       " '1928-01-09',\n",
       " '1928-01-10',\n",
       " '1928-01-11',\n",
       " '1928-01-12',\n",
       " '1928-01-13']"
      ]
     },
     "execution_count": 12,
     "metadata": {},
     "output_type": "execute_result"
    }
   ],
   "source": [
    "all_open_dates = set(past_open_dates).union(set(future_open_dates))\n",
    "all_open_dates = sorted(all_open_dates)\n",
    "all_open_dates[:10]"
   ]
  },
  {
   "cell_type": "code",
   "execution_count": 13,
   "metadata": {},
   "outputs": [],
   "source": [
    "filename = 'all_open_dates.txt'\n",
    "with open (filename, 'w') as f:\n",
    "    for date in all_open_dates:\n",
    "        f.write(f'{date}\\n')"
   ]
  },
  {
   "cell_type": "code",
   "execution_count": 14,
   "metadata": {},
   "outputs": [],
   "source": [
    "filename = 'stock_market_calendar.py'\n",
    "with open (filename, 'w') as f:\n",
    "    f.write('\"\"\"\\n')\n",
    "    f.write('Past and Future dates when the stock market is open from 1928 to 2024.\\n')\n",
    "    f.write('\"\"\"\\n\\n')\n",
    "    f.write(f'# Auto-generated with stock_market_calendar.ipynb, see:\\n')\n",
    "    f.write(f'# https://github.com/fja05680/stock_market_calendar\\n\\n')\n",
    "    f.write(f'stock_market_calendar = [\\n')\n",
    "    for date in all_open_dates[:-1]:\n",
    "        f.write(f\"    '{date}',\\n\")\n",
    "    f.write(f\"    '{date}'\\n]\")"
   ]
  },
  {
   "cell_type": "markdown",
   "metadata": {},
   "source": [
    "### All Close Dates"
   ]
  },
  {
   "cell_type": "code",
   "execution_count": 15,
   "metadata": {},
   "outputs": [
    {
     "data": {
      "text/plain": [
       "['1927-12-31',\n",
       " '1928-01-01',\n",
       " '1928-01-02',\n",
       " '1928-01-07',\n",
       " '1928-01-08',\n",
       " '1928-01-14',\n",
       " '1928-01-15',\n",
       " '1928-01-21',\n",
       " '1928-01-22',\n",
       " '1928-01-28']"
      ]
     },
     "execution_count": 15,
     "metadata": {},
     "output_type": "execute_result"
    }
   ],
   "source": [
    "all_close_dates = list(set(all_dates) - set(all_open_dates))\n",
    "all_close_dates = sorted(all_close_dates)\n",
    "all_close_dates[:10]"
   ]
  },
  {
   "cell_type": "code",
   "execution_count": 16,
   "metadata": {},
   "outputs": [],
   "source": [
    "filename = 'all_close_dates.txt'\n",
    "with open (filename, 'w') as f:\n",
    "    for date in all_close_dates:\n",
    "        f.write(f'{date}\\n')"
   ]
  },
  {
   "cell_type": "code",
   "execution_count": null,
   "metadata": {},
   "outputs": [],
   "source": []
  }
 ],
 "metadata": {
  "kernelspec": {
   "display_name": "Python 3 (ipykernel)",
   "language": "python",
   "name": "python3"
  },
  "language_info": {
   "codemirror_mode": {
    "name": "ipython",
    "version": 3
   },
   "file_extension": ".py",
   "mimetype": "text/x-python",
   "name": "python",
   "nbconvert_exporter": "python",
   "pygments_lexer": "ipython3",
   "version": "3.10.12"
  }
 },
 "nbformat": 4,
 "nbformat_minor": 4
}
